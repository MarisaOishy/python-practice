{
 "cells": [
  {
   "cell_type": "code",
   "execution_count": 4,
   "id": "b1ad3eec",
   "metadata": {},
   "outputs": [
    {
     "name": "stdout",
     "output_type": "stream",
     "text": [
      "1 2 3 4\n",
      "1/2/3/4\n"
     ]
    }
   ],
   "source": [
    "print(1,2,3,4, sep=' ')\n",
    "print(1,2,3,4, sep='/')"
   ]
  },
  {
   "cell_type": "code",
   "execution_count": 5,
   "id": "a0e2f546",
   "metadata": {},
   "outputs": [
    {
     "name": "stdout",
     "output_type": "stream",
     "text": [
      "o\n",
      "i\n",
      "s\n",
      "h\n",
      "y\n"
     ]
    }
   ],
   "source": [
    "string= input(\"enter a name:\")\n",
    "print(*list(string),sep='\\n')"
   ]
  },
  {
   "cell_type": "code",
   "execution_count": 6,
   "id": "2781823a",
   "metadata": {},
   "outputs": [
    {
     "name": "stdout",
     "output_type": "stream",
     "text": [
      "o/i/s/h/y\n"
     ]
    }
   ],
   "source": [
    "string=input(\"enter a name:\")\n",
    "print(*list(string),sep='/')"
   ]
  },
  {
   "cell_type": "code",
   "execution_count": 8,
   "id": "7eefc241",
   "metadata": {},
   "outputs": [
    {
     "name": "stdout",
     "output_type": "stream",
     "text": [
      "8 7\n"
     ]
    }
   ],
   "source": [
    "a,b=7,8\n",
    "a,b=b,a\n",
    "print(a,b)"
   ]
  },
  {
   "cell_type": "code",
   "execution_count": 10,
   "id": "c2586266",
   "metadata": {},
   "outputs": [
    {
     "name": "stdout",
     "output_type": "stream",
     "text": [
      "Arithmetic Operators:\n",
      "a + b = 15\n",
      "a - b = 1\n",
      "a * b = 56\n",
      "a / b = 1.1428571428571428\n",
      "a % b = 1\n",
      "a ** b = 2097152\n"
     ]
    }
   ],
   "source": [
    "print(\"Arithmetic Operators:\")\n",
    "\n",
    "print(f\"a + b = {a + b}\")  # Addition\n",
    "print(f\"a - b = {a - b}\")  # Subtraction\n",
    "print(f\"a * b = {a * b}\")  # Multiplication\n",
    "print(f\"a / b = {a / b}\")  # Division\n",
    "print(f\"a % b = {a % b}\")  # Modulus\n",
    "print(f\"a ** b = {a ** b}\")  # Exponentiation"
   ]
  },
  {
   "cell_type": "code",
   "execution_count": null,
   "id": "5e9cb7c4",
   "metadata": {},
   "outputs": [],
   "source": []
  }
 ],
 "metadata": {
  "kernelspec": {
   "display_name": "Python 3",
   "language": "python",
   "name": "python3"
  },
  "language_info": {
   "codemirror_mode": {
    "name": "ipython",
    "version": 3
   },
   "file_extension": ".py",
   "mimetype": "text/x-python",
   "name": "python",
   "nbconvert_exporter": "python",
   "pygments_lexer": "ipython3",
   "version": "3.12.10"
  }
 },
 "nbformat": 4,
 "nbformat_minor": 5
}
