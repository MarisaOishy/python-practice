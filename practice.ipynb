{
 "cells": [
  {
   "cell_type": "code",
   "execution_count": 4,
   "id": "b1ad3eec",
   "metadata": {},
   "outputs": [
    {
     "name": "stdout",
     "output_type": "stream",
     "text": [
      "1 2 3 4\n",
      "1/2/3/4\n"
     ]
    }
   ],
   "source": [
    "print(1,2,3,4, sep=' ')\n",
    "print(1,2,3,4, sep='/')"
   ]
  },
  {
   "cell_type": "code",
   "execution_count": 5,
   "id": "a0e2f546",
   "metadata": {},
   "outputs": [
    {
     "name": "stdout",
     "output_type": "stream",
     "text": [
      "o\n",
      "i\n",
      "s\n",
      "h\n",
      "y\n"
     ]
    }
   ],
   "source": [
    "string= input(\"enter a name:\")\n",
    "print(*list(string),sep='\\n')"
   ]
  },
  {
   "cell_type": "code",
   "execution_count": 6,
   "id": "2781823a",
   "metadata": {},
   "outputs": [
    {
     "name": "stdout",
     "output_type": "stream",
     "text": [
      "o/i/s/h/y\n"
     ]
    }
   ],
   "source": [
    "string=input(\"enter a name:\")\n",
    "print(*list(string),sep='/')"
   ]
  },
  {
   "cell_type": "code",
   "execution_count": 8,
   "id": "7eefc241",
   "metadata": {},
   "outputs": [
    {
     "name": "stdout",
     "output_type": "stream",
     "text": [
      "8 7\n"
     ]
    }
   ],
   "source": [
    "a,b=7,8\n",
    "a,b=b,a\n",
    "print(a,b)"
   ]
  },
  {
   "cell_type": "code",
   "execution_count": 10,
   "id": "c2586266",
   "metadata": {},
   "outputs": [
    {
     "name": "stdout",
     "output_type": "stream",
     "text": [
      "Arithmetic Operators:\n",
      "a + b = 15\n",
      "a - b = 1\n",
      "a * b = 56\n",
      "a / b = 1.1428571428571428\n",
      "a % b = 1\n",
      "a ** b = 2097152\n"
     ]
    }
   ],
   "source": [
    "print(\"Arithmetic Operators:\")\n",
    "\n",
    "print(f\"a + b = {a + b}\")  # Addition\n",
    "print(f\"a - b = {a - b}\")  # Subtraction\n",
    "print(f\"a * b = {a * b}\")  # Multiplication\n",
    "print(f\"a / b = {a / b}\")  # Division\n",
    "print(f\"a % b = {a % b}\")  # Modulus\n",
    "print(f\"a ** b = {a ** b}\")  # Exponentiation"
   ]
  },
  {
   "cell_type": "code",
   "execution_count": 11,
   "id": "5e9cb7c4",
   "metadata": {},
   "outputs": [
    {
     "name": "stdout",
     "output_type": "stream",
     "text": [
      "\n",
      "Comparison Operators:\n",
      "a == b: False\n",
      "a != b: True\n",
      "a > b: True\n",
      "a < b: False\n",
      "a >= b: True\n",
      "a <= b: False\n"
     ]
    }
   ],
   "source": [
    "# Comparison Operators\n",
    "print(\"\\nComparison Operators:\")\n",
    "print(f\"a == b: {a == b}\")  # Equal to\n",
    "print(f\"a != b: {a != b}\")  # Not equal to\n",
    "print(f\"a > b: {a > b}\")    # Greater than\n",
    "print(f\"a < b: {a < b}\")    # Less than\n",
    "print(f\"a >= b: {a >= b}\")  # Greater than or equal to\n",
    "print(f\"a <= b: {a <= b}\")  # Less than or equal to"
   ]
  },
  {
   "cell_type": "code",
   "execution_count": 15,
   "id": "118b1d19",
   "metadata": {},
   "outputs": [
    {
     "name": "stdout",
     "output_type": "stream",
     "text": [
      "23\n"
     ]
    }
   ],
   "source": [
    "x=int(input(\"Enter value of x\"))\n",
    "y=3*x+5\n",
    "print(y)"
   ]
  },
  {
   "cell_type": "code",
   "execution_count": 21,
   "id": "3a2469f0",
   "metadata": {},
   "outputs": [
    {
     "name": "stdout",
     "output_type": "stream",
     "text": [
      "o/i/s/h/y\n"
     ]
    }
   ],
   "source": [
    "def name():\n",
    "    name=str(input(\"Enter the name:\"))\n",
    "    print(*list(name), sep='/')\n",
    "name()"
   ]
  },
  {
   "cell_type": "code",
   "execution_count": 25,
   "id": "e1224ba2",
   "metadata": {},
   "outputs": [
    {
     "name": "stdout",
     "output_type": "stream",
     "text": [
      "a+b= 15\n"
     ]
    }
   ],
   "source": [
    "def add_numbers(a,b):\n",
    "    a=5\n",
    "    b=7\n",
    "   \n",
    "print(\"a+b=\",a+b) "
   ]
  },
  {
   "cell_type": "code",
   "execution_count": 28,
   "id": "38b3d122",
   "metadata": {},
   "outputs": [
    {
     "name": "stdout",
     "output_type": "stream",
     "text": [
      "27\n"
     ]
    }
   ],
   "source": [
    "def power(base,exponent=2):\n",
    "    return base**exponent\n",
    "print(power(3,3))"
   ]
  },
  {
   "cell_type": "code",
   "execution_count": null,
   "id": "5978d433",
   "metadata": {},
   "outputs": [],
   "source": []
  }
 ],
 "metadata": {
  "kernelspec": {
   "display_name": "Python 3",
   "language": "python",
   "name": "python3"
  },
  "language_info": {
   "codemirror_mode": {
    "name": "ipython",
    "version": 3
   },
   "file_extension": ".py",
   "mimetype": "text/x-python",
   "name": "python",
   "nbconvert_exporter": "python",
   "pygments_lexer": "ipython3",
   "version": "3.12.10"
  }
 },
 "nbformat": 4,
 "nbformat_minor": 5
}
